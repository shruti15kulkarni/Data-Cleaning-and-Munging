{
 "cells": [
  {
   "cell_type": "markdown",
   "metadata": {},
   "source": [
    "Loading the required packages."
   ]
  },
  {
   "cell_type": "code",
   "execution_count": 1,
   "metadata": {
    "collapsed": false
   },
   "outputs": [
    {
     "name": "stderr",
     "output_type": "stream",
     "text": [
      "\n",
      "Attaching package: ‘dplyr’\n",
      "\n",
      "The following objects are masked from ‘package:stats’:\n",
      "\n",
      "    filter, lag\n",
      "\n",
      "The following objects are masked from ‘package:base’:\n",
      "\n",
      "    intersect, setdiff, setequal, union\n",
      "\n"
     ]
    }
   ],
   "source": [
    "library(dplyr)\n",
    "library(RSQLite)"
   ]
  },
  {
   "cell_type": "markdown",
   "metadata": {},
   "source": [
    "Loading the sqlite database for european soccer."
   ]
  },
  {
   "cell_type": "code",
   "execution_count": 2,
   "metadata": {
    "collapsed": true
   },
   "outputs": [],
   "source": [
    "my_db <- src_sqlite(\"database.sqlite\")"
   ]
  },
  {
   "cell_type": "markdown",
   "metadata": {},
   "source": [
    "1) Which are the top 10 players by overall rating?"
   ]
  },
  {
   "cell_type": "markdown",
   "metadata": {},
   "source": [
    "Using sql query to extract the overall ratings of all players with their id and name."
   ]
  },
  {
   "cell_type": "code",
   "execution_count": 3,
   "metadata": {
    "collapsed": true
   },
   "outputs": [],
   "source": [
    "Player<-tbl(my_db, sql(\"SELECT  Player.player_name,Player.player_api_id, MAX(overall_rating) AS overall_rating FROM Player_Attributes,Player WHERE Player.player_api_id=Player_Attributes.player_api_id GROUP BY Player.player_api_id\"))"
   ]
  },
  {
   "cell_type": "markdown",
   "metadata": {},
   "source": [
    "Checking the contents of Player table."
   ]
  },
  {
   "cell_type": "code",
   "execution_count": 4,
   "metadata": {
    "collapsed": false
   },
   "outputs": [
    {
     "data": {
      "text/plain": [
       "Source:   query [?? x 3]\n",
       "Database: sqlite 3.11.1 [Desktop/database.sqlite]\n",
       "\n",
       "         player_name player_api_id overall_rating\n",
       "               <chr>         <int>          <int>\n",
       "1  Patryk Rachwal,18          2625             63\n",
       "2        Diego Mainz          2752             72\n",
       "3        Jose Dorado          2768             75\n",
       "4   Ignacio Gonzalez          2770             74\n",
       "5        Alberto Rey          2790             73\n",
       "6     Javier Jimenez          2796             69\n",
       "7    Pablo Hernandez          2802             82\n",
       "8        Ruben Perez          2805             76\n",
       "9         Ivan Perez          2857             72\n",
       "10   Vicente Sanchez          2862             76\n",
       "# ... with more rows"
      ]
     },
     "metadata": {},
     "output_type": "display_data"
    }
   ],
   "source": [
    "Player"
   ]
  },
  {
   "cell_type": "markdown",
   "metadata": {},
   "source": [
    "2) Which are the top 10 goalkeepers by sum of gk attributes?"
   ]
  },
  {
   "cell_type": "markdown",
   "metadata": {},
   "source": [
    "Selecting the Gk attributes by taking the sum of all the gk columns and grouping them by player_api_id to pick the maximum value."
   ]
  },
  {
   "cell_type": "code",
   "execution_count": 5,
   "metadata": {
    "collapsed": false
   },
   "outputs": [
    {
     "data": {
      "text/plain": [
       "Source:   query [?? x 2]\n",
       "Database: sqlite 3.11.1 [Desktop/database.sqlite]\n",
       "\n",
       "   player_api_id gk_attributes\n",
       "           <int>         <int>\n",
       "1           2625           153\n",
       "2           2752            53\n",
       "3           2768           128\n",
       "4           2770           148\n",
       "5           2790           144\n",
       "6           2796           340\n",
       "7           2802           146\n",
       "8           2805           141\n",
       "9           2857           143\n",
       "10          2862           146\n",
       "# ... with more rows"
      ]
     },
     "metadata": {},
     "output_type": "display_data"
    }
   ],
   "source": [
    "ques_2 <- tbl(my_db,sql(\"SELECT player_api_id,MAX(gk_diving+gk_handling+gk_kicking+gk_positioning+gk_reflexes) AS gk_attributes FROM Player_Attributes GROUP BY player_api_id\"))\n",
    "ques_2"
   ]
  },
  {
   "cell_type": "markdown",
   "metadata": {},
   "source": [
    "Joining the gk_attributes to the Player table using left join by the player_api_column."
   ]
  },
  {
   "cell_type": "code",
   "execution_count": 6,
   "metadata": {
    "collapsed": false
   },
   "outputs": [
    {
     "name": "stderr",
     "output_type": "stream",
     "text": [
      "Joining, by = \"player_api_id\"\n"
     ]
    }
   ],
   "source": [
    "Player <- Player %>% left_join(ques_2)"
   ]
  },
  {
   "cell_type": "markdown",
   "metadata": {},
   "source": [
    "Now the Player table has the gk_attributes sorted according to the player_api_id."
   ]
  },
  {
   "cell_type": "code",
   "execution_count": 7,
   "metadata": {
    "collapsed": false,
    "scrolled": true
   },
   "outputs": [
    {
     "data": {
      "text/plain": [
       "Source:   query [?? x 4]\n",
       "Database: sqlite 3.11.1 [Desktop/database.sqlite]\n",
       "\n",
       "         player_name player_api_id overall_rating gk_attributes\n",
       "               <chr>         <int>          <int>         <int>\n",
       "1  Patryk Rachwal,18          2625             63           153\n",
       "2        Diego Mainz          2752             72            53\n",
       "3        Jose Dorado          2768             75           128\n",
       "4   Ignacio Gonzalez          2770             74           148\n",
       "5        Alberto Rey          2790             73           144\n",
       "6     Javier Jimenez          2796             69           340\n",
       "7    Pablo Hernandez          2802             82           146\n",
       "8        Ruben Perez          2805             76           141\n",
       "9         Ivan Perez          2857             72           143\n",
       "10   Vicente Sanchez          2862             76           146\n",
       "# ... with more rows"
      ]
     },
     "metadata": {},
     "output_type": "display_data"
    }
   ],
   "source": [
    "Player"
   ]
  },
  {
   "cell_type": "markdown",
   "metadata": {},
   "source": [
    "3) Which are the top 10 players by number of appearances (with any team they played with)?"
   ]
  },
  {
   "cell_type": "markdown",
   "metadata": {},
   "source": [
    "Calculating the number of appearances by each player by iterating all the columns through home_player_1 to home_player_10 and away_player_1 to away_player_10. [1]"
   ]
  },
  {
   "cell_type": "code",
   "execution_count": 8,
   "metadata": {
    "collapsed": true
   },
   "outputs": [],
   "source": [
    "ques_3<-tbl(my_db,sql(\"SELECT player_api_id, count(*) as num_appearances FROM (SELECT home_player_1 AS player_api_id FROM Match UNION ALL\n",
    "                                 SELECT home_player_2 AS player_api_id FROM Match UNION ALL\n",
    "                                 SELECT home_player_3 AS player_api_id FROM Match\n",
    "                                 UNION ALL\n",
    "                                 SELECT home_player_4 AS player_api_id FROM Match\n",
    "                                 UNION ALL\n",
    "                                 SELECT home_player_5 AS player_api_id FROM Match\n",
    "                                 UNION ALL\n",
    "                                 SELECT home_player_6 AS player_api_id FROM Match\n",
    "                                 UNION ALL\n",
    "                                 SELECT home_player_7 AS player_api_id FROM Match\n",
    "                                 UNION ALL\n",
    "                                 SELECT home_player_8 AS player_api_id FROM Match\n",
    "                                 UNION ALL\n",
    "                                 SELECT home_player_9 AS player_api_id FROM Match\n",
    "                                 UNION ALL\n",
    "                                 SELECT home_player_10 AS player_api_id FROM Match\n",
    "                                 UNION ALL\n",
    "                                 SELECT home_player_11 AS player_api_id FROM Match\n",
    "                                 UNION ALL\n",
    "                                 SELECT away_player_1 AS player_api_id FROM Match\n",
    "                                 UNION ALL\n",
    "                                 SELECT away_player_2 AS player_api_id FROM Match\n",
    "                                 UNION ALL\n",
    "                                 SELECT away_player_3 AS player_api_id FROM Match\n",
    "                                 UNION ALL\n",
    "                                 SELECT away_player_4 AS player_api_id FROM Match\n",
    "                                 UNION ALL\n",
    "                                 SELECT away_player_5 AS player_api_id FROM Match\n",
    "                                 UNION ALL\n",
    "                                 SELECT away_player_6 AS player_api_id FROM Match\n",
    "                                 UNION ALL\n",
    "                                 SELECT away_player_7 AS player_api_id FROM Match\n",
    "                                 UNION ALL\n",
    "                                 SELECT away_player_8 AS player_api_id FROM Match\n",
    "                                 UNION ALL\n",
    "                                 SELECT away_player_9 AS player_api_id FROM Match\n",
    "                                 UNION ALL\n",
    "                                 SELECT away_player_10 AS player_api_id FROM Match\n",
    "                                 UNION ALL\n",
    "                                 SELECT away_player_11 AS player_api_id FROM Match) GROUP BY player_api_id\"))"
   ]
  },
  {
   "cell_type": "markdown",
   "metadata": {},
   "source": [
    "Adding the number of appearances of each player to the player table using their player_api_id."
   ]
  },
  {
   "cell_type": "code",
   "execution_count": 9,
   "metadata": {
    "collapsed": false
   },
   "outputs": [],
   "source": [
    "Player <- Player %>% inner_join(ques_3, by = \"player_api_id\")"
   ]
  },
  {
   "cell_type": "markdown",
   "metadata": {},
   "source": [
    "Now the Player table has the number of appearances sorted according to the player_api_id."
   ]
  },
  {
   "cell_type": "code",
   "execution_count": 10,
   "metadata": {
    "collapsed": false
   },
   "outputs": [
    {
     "data": {
      "text/plain": [
       "Source:   query [?? x 5]\n",
       "Database: sqlite 3.11.1 [Desktop/database.sqlite]\n",
       "\n",
       "         player_name player_api_id overall_rating gk_attributes num_appearances\n",
       "               <chr>         <int>          <int>         <int>           <int>\n",
       "1  Patryk Rachwal,18          2625             63           153              90\n",
       "2        Diego Mainz          2752             72            53              81\n",
       "3        Jose Dorado          2768             75           128              71\n",
       "4   Ignacio Gonzalez          2770             74           148              16\n",
       "5        Alberto Rey          2790             73           144              50\n",
       "6     Javier Jimenez          2796             69           340               1\n",
       "7    Pablo Hernandez          2802             82           146             144\n",
       "8        Ruben Perez          2805             76           141             131\n",
       "9         Ivan Perez          2857             72           143               3\n",
       "10   Vicente Sanchez          2862             76           146              17\n",
       "# ... with more rows"
      ]
     },
     "metadata": {},
     "output_type": "display_data"
    }
   ],
   "source": [
    "Player"
   ]
  },
  {
   "cell_type": "markdown",
   "metadata": {},
   "source": [
    "4) Which are the top 10 players by number of leagues they played in?"
   ]
  },
  {
   "cell_type": "markdown",
   "metadata": {},
   "source": [
    "Calculating the number of leagues played by each player by iterating all the columns through home_player_1 to home_player_10 and away_player_1 to away_player_10 and then grouping them by league_id.[1]"
   ]
  },
  {
   "cell_type": "code",
   "execution_count": 11,
   "metadata": {
    "collapsed": true
   },
   "outputs": [],
   "source": [
    "ques_4<-tbl(my_db,sql(\"SELECT player_api_id, count(distinct(league_id)) as num_leagues FROM (SELECT league_id,home_player_1 AS player_api_id FROM Match UNION ALL\n",
    "                                 SELECT league_id,home_player_2 AS player_api_id FROM Match UNION ALL\n",
    "                      SELECT league_id,home_player_3 AS player_api_id FROM Match\n",
    "                      UNION ALL\n",
    "                      SELECT league_id,home_player_4 AS player_api_id FROM Match\n",
    "                      UNION ALL\n",
    "                      SELECT league_id,home_player_5 AS player_api_id FROM Match\n",
    "                      UNION ALL\n",
    "                      SELECT league_id,home_player_6 AS player_api_id FROM Match\n",
    "                      UNION ALL\n",
    "                      SELECT league_id,home_player_7 AS player_api_id FROM Match\n",
    "                      UNION ALL\n",
    "                      SELECT league_id,home_player_8 AS player_api_id FROM Match\n",
    "                      UNION ALL\n",
    "                      SELECT league_id,home_player_9 AS player_api_id FROM Match\n",
    "                      UNION ALL\n",
    "                      SELECT league_id,home_player_10 AS player_api_id FROM Match\n",
    "                      UNION ALL\n",
    "                      SELECT league_id,home_player_11 AS player_api_id FROM Match\n",
    "                      UNION ALL\n",
    "                      SELECT league_id,away_player_1 AS player_api_id FROM Match\n",
    "                      UNION ALL\n",
    "                      SELECT league_id,away_player_2 AS player_api_id FROM Match\n",
    "                      UNION ALL\n",
    "                      SELECT league_id,away_player_3 AS player_api_id FROM Match\n",
    "                      UNION ALL\n",
    "                      SELECT league_id,away_player_4 AS player_api_id FROM Match\n",
    "                      UNION ALL\n",
    "                      SELECT league_id,away_player_5 AS player_api_id FROM Match\n",
    "                      UNION ALL\n",
    "                      SELECT league_id,away_player_6 AS player_api_id FROM Match\n",
    "                      UNION ALL\n",
    "                      SELECT league_id,away_player_7 AS player_api_id FROM Match\n",
    "                      UNION ALL\n",
    "                      SELECT league_id,away_player_8 AS player_api_id FROM Match\n",
    "                      UNION ALL\n",
    "                      SELECT league_id,away_player_9 AS player_api_id FROM Match\n",
    "                      UNION ALL\n",
    "                      SELECT league_id,away_player_10 AS player_api_id FROM Match\n",
    "                      UNION ALL\n",
    "                      SELECT league_id,away_player_11 AS player_api_id FROM Match) GROUP BY player_api_id ORDER BY \n",
    "                      num_leagues DESC\"))"
   ]
  },
  {
   "cell_type": "markdown",
   "metadata": {},
   "source": [
    "Adding the number of leagues of each player to the player table using their player_api_id."
   ]
  },
  {
   "cell_type": "code",
   "execution_count": 12,
   "metadata": {
    "collapsed": true
   },
   "outputs": [],
   "source": [
    "Player <- Player %>% inner_join(ques_4, by = \"player_api_id\")"
   ]
  },
  {
   "cell_type": "markdown",
   "metadata": {},
   "source": [
    "Now the Player table has the number of leagues sorted according to the player_api_id."
   ]
  },
  {
   "cell_type": "code",
   "execution_count": 13,
   "metadata": {
    "collapsed": false
   },
   "outputs": [
    {
     "data": {
      "text/plain": [
       "Source:   query [?? x 6]\n",
       "Database: sqlite 3.11.1 [Desktop/database.sqlite]\n",
       "\n",
       "         player_name player_api_id overall_rating gk_attributes num_appearances\n",
       "               <chr>         <int>          <int>         <int>           <int>\n",
       "1  Patryk Rachwal,18          2625             63           153              90\n",
       "2        Diego Mainz          2752             72            53              81\n",
       "3        Jose Dorado          2768             75           128              71\n",
       "4   Ignacio Gonzalez          2770             74           148              16\n",
       "5        Alberto Rey          2790             73           144              50\n",
       "6     Javier Jimenez          2796             69           340               1\n",
       "7    Pablo Hernandez          2802             82           146             144\n",
       "8        Ruben Perez          2805             76           141             131\n",
       "9         Ivan Perez          2857             72           143               3\n",
       "10   Vicente Sanchez          2862             76           146              17\n",
       "# ... with more rows, and 1 more variables: num_leagues <int>"
      ]
     },
     "metadata": {},
     "output_type": "display_data"
    }
   ],
   "source": [
    "Player"
   ]
  },
  {
   "cell_type": "code",
   "execution_count": 14,
   "metadata": {
    "collapsed": true
   },
   "outputs": [],
   "source": [
    "write.table(Player, file=\"Player.csv\")"
   ]
  },
  {
   "cell_type": "markdown",
   "metadata": {},
   "source": [
    "5) Which are the top 10 teams by sum of build up play attributes?"
   ]
  },
  {
   "cell_type": "markdown",
   "metadata": {},
   "source": [
    "Querying the Team and Team_Attribute table to extract the sum of buildUpPlay_attributes along with the teams name and api_id."
   ]
  },
  {
   "cell_type": "code",
   "execution_count": 15,
   "metadata": {
    "collapsed": false
   },
   "outputs": [],
   "source": [
    "Team <- tbl(my_db,sql(\"SELECT team_long_name, Team.team_api_id, MAX(buildUpPlaySpeed + buildUpPlayDribbling + buildUpPlayPassing) AS buildUpPlay_attributes FROM Team, Team_Attributes WHERE Team.team_api_id = Team_Attributes.team_api_id GROUP BY Team.team_api_id\"))"
   ]
  },
  {
   "cell_type": "markdown",
   "metadata": {},
   "source": [
    "Checking the contents of team"
   ]
  },
  {
   "cell_type": "code",
   "execution_count": 16,
   "metadata": {
    "collapsed": false
   },
   "outputs": [
    {
     "data": {
      "text/plain": [
       "Source:   query [?? x 3]\n",
       "Database: sqlite 3.11.1 [Desktop/database.sqlite]\n",
       "\n",
       "             team_long_name team_api_id buildUpPlay_attributes\n",
       "                      <chr>       <int>                  <int>\n",
       "1              Ruch Chorzów        1601                    139\n",
       "2       Oud-Heverlee Leuven        1773                    153\n",
       "3     Jagiellonia Białystok        1957                    158\n",
       "4            S.C. Olhanense        2033                    147\n",
       "5               Lech Poznań        2182                    176\n",
       "6               P. Warszawa        2183                     NA\n",
       "7                  Cracovia        2186                    125\n",
       "8  Évian Thonon Gaillard FC        4087                    156\n",
       "9  US Boulogne Cote D'Opale        4170                     NA\n",
       "10                   Novara        6269                    179\n",
       "# ... with more rows"
      ]
     },
     "metadata": {},
     "output_type": "display_data"
    }
   ],
   "source": [
    "Team"
   ]
  },
  {
   "cell_type": "markdown",
   "metadata": {},
   "source": [
    "6) Which are the top 10 teams by sum of chance creation attributes?"
   ]
  },
  {
   "cell_type": "markdown",
   "metadata": {},
   "source": [
    "Querying the Team and Team_Attribute table to extract the sum of chanceCreation_attributes along with the team_api_id."
   ]
  },
  {
   "cell_type": "code",
   "execution_count": 17,
   "metadata": {
    "collapsed": false
   },
   "outputs": [
    {
     "data": {
      "text/plain": [
       "Source:   query [?? x 2]\n",
       "Database: sqlite 3.11.1 [Desktop/database.sqlite]\n",
       "\n",
       "   team_api_id chanceCreation_attributes\n",
       "         <int>                     <int>\n",
       "1         1601                       186\n",
       "2         1773                       157\n",
       "3         1957                       163\n",
       "4         2033                       165\n",
       "5         2182                       196\n",
       "6         2183                       180\n",
       "7         2186                       168\n",
       "8         4087                       180\n",
       "9         4170                       165\n",
       "10        6269                       172\n",
       "# ... with more rows"
      ]
     },
     "metadata": {},
     "output_type": "display_data"
    }
   ],
   "source": [
    "ques_6 <- tbl(my_db,sql(\"SELECT team_api_id,MAX(chanceCreationPassing + chanceCreationCrossing + chanceCreationShooting) AS chanceCreation_attributes FROM Team_Attributes GROUP BY team_api_id\"))\n",
    "ques_6"
   ]
  },
  {
   "cell_type": "markdown",
   "metadata": {},
   "source": [
    "Adding the chanceCreation_attributes of each team to the team table using their team_api_id."
   ]
  },
  {
   "cell_type": "code",
   "execution_count": 18,
   "metadata": {
    "collapsed": false
   },
   "outputs": [
    {
     "name": "stderr",
     "output_type": "stream",
     "text": [
      "Joining, by = \"team_api_id\"\n"
     ]
    }
   ],
   "source": [
    "Team <- Team %>% left_join(ques_6)"
   ]
  },
  {
   "cell_type": "markdown",
   "metadata": {},
   "source": [
    "Now the team table has the chanceCreation_attributes sorted according to the team_api_id."
   ]
  },
  {
   "cell_type": "code",
   "execution_count": 19,
   "metadata": {
    "collapsed": false
   },
   "outputs": [
    {
     "data": {
      "text/plain": [
       "Source:   query [?? x 4]\n",
       "Database: sqlite 3.11.1 [Desktop/database.sqlite]\n",
       "\n",
       "             team_long_name team_api_id buildUpPlay_attributes\n",
       "                      <chr>       <int>                  <int>\n",
       "1              Ruch Chorzów        1601                    139\n",
       "2       Oud-Heverlee Leuven        1773                    153\n",
       "3     Jagiellonia Białystok        1957                    158\n",
       "4            S.C. Olhanense        2033                    147\n",
       "5               Lech Poznań        2182                    176\n",
       "6               P. Warszawa        2183                     NA\n",
       "7                  Cracovia        2186                    125\n",
       "8  Évian Thonon Gaillard FC        4087                    156\n",
       "9  US Boulogne Cote D'Opale        4170                     NA\n",
       "10                   Novara        6269                    179\n",
       "# ... with more rows, and 1 more variables: chanceCreation_attributes <int>"
      ]
     },
     "metadata": {},
     "output_type": "display_data"
    }
   ],
   "source": [
    "Team"
   ]
  },
  {
   "cell_type": "markdown",
   "metadata": {},
   "source": [
    "7) Which are the top 10 teams by sum of defense attributes?"
   ]
  },
  {
   "cell_type": "markdown",
   "metadata": {},
   "source": [
    "Querying the Team and Team_Attribute table to extract the sum of defence_attributes along with the team_api_id."
   ]
  },
  {
   "cell_type": "code",
   "execution_count": 20,
   "metadata": {
    "collapsed": false
   },
   "outputs": [
    {
     "data": {
      "text/plain": [
       "Source:   query [?? x 2]\n",
       "Database: sqlite 3.11.1 [Desktop/database.sqlite]\n",
       "\n",
       "   team_api_id defence_attributes\n",
       "         <int>              <int>\n",
       "1         1601                175\n",
       "2         1773                137\n",
       "3         1957                210\n",
       "4         2033                155\n",
       "5         2182                160\n",
       "6         2183                175\n",
       "7         2186                205\n",
       "8         4087                165\n",
       "9         4170                200\n",
       "10        6269                151\n",
       "# ... with more rows"
      ]
     },
     "metadata": {},
     "output_type": "display_data"
    }
   ],
   "source": [
    "ques_7 <- tbl(my_db,sql(\"SELECT team_api_id,MAX(defencePressure + defenceAggression + defenceTeamWidth) AS defence_attributes FROM Team_Attributes GROUP BY team_api_id\"))\n",
    "ques_7"
   ]
  },
  {
   "cell_type": "markdown",
   "metadata": {
    "collapsed": true
   },
   "source": [
    "Adding the defense_attributes of each team to the team table using their team_api_id."
   ]
  },
  {
   "cell_type": "code",
   "execution_count": 21,
   "metadata": {
    "collapsed": false
   },
   "outputs": [
    {
     "name": "stderr",
     "output_type": "stream",
     "text": [
      "Joining, by = \"team_api_id\"\n"
     ]
    }
   ],
   "source": [
    "Team <- Team %>% left_join(ques_7)"
   ]
  },
  {
   "cell_type": "markdown",
   "metadata": {},
   "source": [
    "Now the team table has the defense_attributes sorted according to the team_api_id."
   ]
  },
  {
   "cell_type": "code",
   "execution_count": 22,
   "metadata": {
    "collapsed": false
   },
   "outputs": [
    {
     "data": {
      "text/plain": [
       "Source:   query [?? x 5]\n",
       "Database: sqlite 3.11.1 [Desktop/database.sqlite]\n",
       "\n",
       "             team_long_name team_api_id buildUpPlay_attributes\n",
       "                      <chr>       <int>                  <int>\n",
       "1              Ruch Chorzów        1601                    139\n",
       "2       Oud-Heverlee Leuven        1773                    153\n",
       "3     Jagiellonia Białystok        1957                    158\n",
       "4            S.C. Olhanense        2033                    147\n",
       "5               Lech Poznań        2182                    176\n",
       "6               P. Warszawa        2183                     NA\n",
       "7                  Cracovia        2186                    125\n",
       "8  Évian Thonon Gaillard FC        4087                    156\n",
       "9  US Boulogne Cote D'Opale        4170                     NA\n",
       "10                   Novara        6269                    179\n",
       "# ... with more rows, and 2 more variables: chanceCreation_attributes <int>,\n",
       "#   defence_attributes <int>"
      ]
     },
     "metadata": {},
     "output_type": "display_data"
    }
   ],
   "source": [
    "Team"
   ]
  },
  {
   "cell_type": "markdown",
   "metadata": {},
   "source": [
    "9) Which are the top 10 teams by number of scored goals?"
   ]
  },
  {
   "cell_type": "markdown",
   "metadata": {},
   "source": [
    "Calculating the number of goals scored by each team on home ground."
   ]
  },
  {
   "cell_type": "code",
   "execution_count": 23,
   "metadata": {
    "collapsed": false
   },
   "outputs": [
    {
     "data": {
      "text/plain": [
       "Source:   query [?? x 2]\n",
       "Database: sqlite 3.11.1 [Desktop/database.sqlite]\n",
       "\n",
       "   team_api_id  Home\n",
       "         <int> <int>\n",
       "1         1601   148\n",
       "2         1773    74\n",
       "3         1957   176\n",
       "4         2033    70\n",
       "5         2182   215\n",
       "6         2183    96\n",
       "7         2186   144\n",
       "8         4049    22\n",
       "9         4064    13\n",
       "10        4087   105\n",
       "# ... with more rows"
      ]
     },
     "metadata": {},
     "output_type": "display_data"
    }
   ],
   "source": [
    "g1<- tbl(my_db,sql(\"SELECT home_team_api_id as team_api_id, sum(home_team_goal) as Home  FROM Match GROUP BY home_team_api_id\"))\n",
    "g1"
   ]
  },
  {
   "cell_type": "markdown",
   "metadata": {},
   "source": [
    "Calculating the number of goals scored by each team on away ground."
   ]
  },
  {
   "cell_type": "code",
   "execution_count": 24,
   "metadata": {
    "collapsed": false
   },
   "outputs": [
    {
     "data": {
      "text/plain": [
       "Source:   query [?? x 2]\n",
       "Database: sqlite 3.11.1 [Desktop/database.sqlite]\n",
       "\n",
       "   team_api_id  Away\n",
       "         <int> <int>\n",
       "1         1601   132\n",
       "2         1773    52\n",
       "3         1957   111\n",
       "4         2033    68\n",
       "5         2182   157\n",
       "6         2183    88\n",
       "7         2186    91\n",
       "8         4049    13\n",
       "9         4064    14\n",
       "10        4087    75\n",
       "# ... with more rows"
      ]
     },
     "metadata": {},
     "output_type": "display_data"
    }
   ],
   "source": [
    "g2 <-tbl(my_db,sql(\"SELECT away_team_api_id as team_api_id, sum(away_team_goal) as Away FROM Match GROUP BY away_team_api_id\"))\n",
    "g2"
   ]
  },
  {
   "cell_type": "markdown",
   "metadata": {},
   "source": [
    "Joining the two tables by the team_api_id and adding up the rows to get the total number of goals."
   ]
  },
  {
   "cell_type": "code",
   "execution_count": 25,
   "metadata": {
    "collapsed": false
   },
   "outputs": [
    {
     "data": {
      "text/plain": [
       "Source:   query [?? x 4]\n",
       "Database: sqlite 3.11.1 [Desktop/database.sqlite]\n",
       "\n",
       "   team_api_id  Home  Away goals\n",
       "         <int> <int> <int> <int>\n",
       "1         1601   148   132   280\n",
       "2         1773    74    52   126\n",
       "3         1957   176   111   287\n",
       "4         2033    70    68   138\n",
       "5         2182   215   157   372\n",
       "6         2183    96    88   184\n",
       "7         2186   144    91   235\n",
       "8         4049    22    13    35\n",
       "9         4064    13    14    27\n",
       "10        4087   105    75   180\n",
       "# ... with more rows"
      ]
     },
     "metadata": {},
     "output_type": "display_data"
    }
   ],
   "source": [
    "g2 <- g1 %>% left_join(g2, by = \"team_api_id\")\n",
    "g2<-g2 %>% mutate(goals = Home + Away)\n",
    "g2"
   ]
  },
  {
   "cell_type": "markdown",
   "metadata": {},
   "source": [
    "Selecting only the relevant columns."
   ]
  },
  {
   "cell_type": "code",
   "execution_count": 26,
   "metadata": {
    "collapsed": false
   },
   "outputs": [
    {
     "data": {
      "text/plain": [
       "Source:   query [?? x 2]\n",
       "Database: sqlite 3.11.1 [Desktop/database.sqlite]\n",
       "\n",
       "   team_api_id goals\n",
       "         <int> <int>\n",
       "1         1601   280\n",
       "2         1773   126\n",
       "3         1957   287\n",
       "4         2033   138\n",
       "5         2182   372\n",
       "6         2183   184\n",
       "7         2186   235\n",
       "8         4049    35\n",
       "9         4064    27\n",
       "10        4087   180\n",
       "# ... with more rows"
      ]
     },
     "metadata": {},
     "output_type": "display_data"
    }
   ],
   "source": [
    "ques_8 <- g2 %>% select(team_api_id,goals)\n",
    "ques_8"
   ]
  },
  {
   "cell_type": "code",
   "execution_count": 27,
   "metadata": {
    "collapsed": false
   },
   "outputs": [
    {
     "name": "stderr",
     "output_type": "stream",
     "text": [
      "Joining, by = \"team_api_id\"\n"
     ]
    }
   ],
   "source": [
    "Team <- Team %>% left_join(ques_8)"
   ]
  },
  {
   "cell_type": "markdown",
   "metadata": {},
   "source": [
    "Now the team table has the number of goals by each team sorted according to the team_api_id."
   ]
  },
  {
   "cell_type": "code",
   "execution_count": 28,
   "metadata": {
    "collapsed": false
   },
   "outputs": [
    {
     "data": {
      "text/plain": [
       "Source:   query [?? x 6]\n",
       "Database: sqlite 3.11.1 [Desktop/database.sqlite]\n",
       "\n",
       "             team_long_name team_api_id buildUpPlay_attributes\n",
       "                      <chr>       <int>                  <int>\n",
       "1              Ruch Chorzów        1601                    139\n",
       "2       Oud-Heverlee Leuven        1773                    153\n",
       "3     Jagiellonia Białystok        1957                    158\n",
       "4            S.C. Olhanense        2033                    147\n",
       "5               Lech Poznań        2182                    176\n",
       "6               P. Warszawa        2183                     NA\n",
       "7                  Cracovia        2186                    125\n",
       "8  Évian Thonon Gaillard FC        4087                    156\n",
       "9  US Boulogne Cote D'Opale        4170                     NA\n",
       "10                   Novara        6269                    179\n",
       "# ... with more rows, and 3 more variables: chanceCreation_attributes <int>,\n",
       "#   defence_attributes <int>, goals <int>"
      ]
     },
     "metadata": {},
     "output_type": "display_data"
    }
   ],
   "source": [
    "Team"
   ]
  },
  {
   "cell_type": "code",
   "execution_count": 30,
   "metadata": {
    "collapsed": true
   },
   "outputs": [],
   "source": [
    "write.table(Team, file=\"Team.csv\")"
   ]
  },
  {
   "cell_type": "markdown",
   "metadata": {},
   "source": [
    "[1] http://stackoverflow.com/questions/14789928/count-occurrences-of-multiple-columns-as-total"
   ]
  }
 ],
 "metadata": {
  "kernelspec": {
   "display_name": "R",
   "language": "R",
   "name": "ir"
  },
  "language_info": {
   "codemirror_mode": "r",
   "file_extension": ".r",
   "mimetype": "text/x-r-source",
   "name": "R",
   "pygments_lexer": "r",
   "version": "3.3.2"
  }
 },
 "nbformat": 4,
 "nbformat_minor": 2
}
