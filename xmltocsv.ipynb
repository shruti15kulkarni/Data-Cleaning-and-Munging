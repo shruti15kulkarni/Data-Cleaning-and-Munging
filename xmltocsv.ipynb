{
 "cells": [
  {
   "cell_type": "markdown",
   "metadata": {},
   "source": [
    "Loading the required libraries."
   ]
  },
  {
   "cell_type": "code",
   "execution_count": 1,
   "metadata": {
    "collapsed": true
   },
   "outputs": [],
   "source": [
    "library(\"XML\")\n",
    "library(stringr)"
   ]
  },
  {
   "cell_type": "markdown",
   "metadata": {},
   "source": [
    "Reading and converting the xml file into a dataframe using the xmlToDataFrame function."
   ]
  },
  {
   "cell_type": "code",
   "execution_count": 2,
   "metadata": {
    "collapsed": true
   },
   "outputs": [],
   "source": [
    "xmldataframe <- xmlToDataFrame(\"WU.xml\")"
   ]
  },
  {
   "cell_type": "markdown",
   "metadata": {},
   "source": [
    "Since the time tag has two values, start time and stop time, we split it and append the new columns to the data frame."
   ]
  },
  {
   "cell_type": "code",
   "execution_count": 3,
   "metadata": {
    "collapsed": true
   },
   "outputs": [],
   "source": [
    "time <- str_split_fixed(xmldataframe$time, \"PM|AM\", 2)\n",
    "time <- as.data.frame(time)\n",
    "xmldataframe$start_time <- time$V1\n",
    "xmldataframe$end_time <- time$V2\n",
    "xmldataframe$time <- NULL"
   ]
  },
  {
   "cell_type": "markdown",
   "metadata": {},
   "source": [
    "The place tag also has two values, namely building and room, which is split using regex. The new columns are appended to the dataframe."
   ]
  },
  {
   "cell_type": "code",
   "execution_count": 4,
   "metadata": {
    "collapsed": true
   },
   "outputs": [],
   "source": [
    "building <-gsub(\"[[:digit:]]\",\"\",xmldataframe$place)\n",
    "room <- gsub(\"[^[:digit:]]\", \"\", xmldataframe$place)\n",
    "xmldataframe$building<-building\n",
    "xmldataframe$room<-room\n",
    "xmldataframe$place <- NULL"
   ]
  },
  {
   "cell_type": "markdown",
   "metadata": {},
   "source": [
    "Checking the contents of the dataframe."
   ]
  },
  {
   "cell_type": "code",
   "execution_count": 5,
   "metadata": {
    "collapsed": false
   },
   "outputs": [
    {
     "data": {
      "text/html": [
       "<table>\n",
       "<thead><tr><th scope=col>reg_num</th><th scope=col>subj</th><th scope=col>crse</th><th scope=col>sect</th><th scope=col>title</th><th scope=col>units</th><th scope=col>instructor</th><th scope=col>days</th><th scope=col>start_time</th><th scope=col>end_time</th><th scope=col>building</th><th scope=col>room</th></tr></thead>\n",
       "<tbody>\n",
       "\t<tr><td>10577                                </td><td>ANTH                                 </td><td>211                                  </td><td>F01                                  </td><td>Introduction to Anthropology         </td><td>1.0                                  </td><td>Brightman                            </td><td>M-W                                  </td><td>03:10                                </td><td>04:30                                </td><td>ELIOT                                </td><td>414                                  </td></tr>\n",
       "\t<tr><td>20573                                </td><td>ANTH                                 </td><td>344                                  </td><td>S01                                  </td><td>Sex and Gender                       </td><td>1.0                                  </td><td>Makley                               </td><td>T-Th                                 </td><td>10:30                                </td><td>11:50                                </td><td>VOLLUM                               </td><td>120                                  </td></tr>\n",
       "\t<tr><td>10624                                </td><td>BIOL                                 </td><td>431                                  </td><td>F01                                  </td><td>Field Biology of Amphibians          </td><td>0.5                                  </td><td>Kaplan                               </td><td>T                                    </td><td>06:10                                </td><td>08:00                                </td><td>PHYSICA                              </td><td>240                                  </td></tr>\n",
       "\t<tr><td>10626                                </td><td>BIOL                                 </td><td>431                                  </td><td>F03                                  </td><td>Bacterial Pathogenesis               </td><td>0.5                                  </td><td>                                     </td><td>                                     </td><td>                                     </td><td>                                     </td><td>Mellies RESCHEDULED TO OTHER SEMESTER</td><td>                                     </td></tr>\n",
       "\t<tr><td>20626                                </td><td>BIOL                                 </td><td>431                                  </td><td>S04                                  </td><td>Seminar in Biology                   </td><td>0.5                                  </td><td>Yezerinac                            </td><td>Th                                   </td><td>06:10                                </td><td>08:00                                </td><td>BIOLA                                </td><td>200                                  </td></tr>\n",
       "\t<tr><td>10543                                </td><td>CHEM                                 </td><td>101                                  </td><td>F                                    </td><td>MolecularStructure and Properties    </td><td>1.0                                  </td><td>Geselbracht                          </td><td>M-W-F                                </td><td>11:00                                </td><td>11:50                                </td><td>VOLLUMVLH                            </td><td>                                     </td></tr>\n",
       "</tbody>\n",
       "</table>\n"
      ],
      "text/latex": [
       "\\begin{tabular}{r|llllllllllll}\n",
       " reg\\_num & subj & crse & sect & title & units & instructor & days & start\\_time & end\\_time & building & room\\\\\n",
       "\\hline\n",
       "\t 10577                                 & ANTH                                  & 211                                   & F01                                   & Introduction to Anthropology          & 1.0                                   & Brightman                             & M-W                                   & 03:10                                 & 04:30                                 & ELIOT                                 & 414                                  \\\\\n",
       "\t 20573                                 & ANTH                                  & 344                                   & S01                                   & Sex and Gender                        & 1.0                                   & Makley                                & T-Th                                  & 10:30                                 & 11:50                                 & VOLLUM                                & 120                                  \\\\\n",
       "\t 10624                                 & BIOL                                  & 431                                   & F01                                   & Field Biology of Amphibians           & 0.5                                   & Kaplan                                & T                                     & 06:10                                 & 08:00                                 & PHYSICA                               & 240                                  \\\\\n",
       "\t 10626                                 & BIOL                                  & 431                                   & F03                                   & Bacterial Pathogenesis                & 0.5                                   &                                       &                                       &                                       &                                       & Mellies RESCHEDULED TO OTHER SEMESTER &                                      \\\\\n",
       "\t 20626                                 & BIOL                                  & 431                                   & S04                                   & Seminar in Biology                    & 0.5                                   & Yezerinac                             & Th                                    & 06:10                                 & 08:00                                 & BIOLA                                 & 200                                  \\\\\n",
       "\t 10543                                 & CHEM                                  & 101                                   & F                                     & MolecularStructure and Properties     & 1.0                                   & Geselbracht                           & M-W-F                                 & 11:00                                 & 11:50                                 & VOLLUMVLH                             &                                      \\\\\n",
       "\\end{tabular}\n"
      ],
      "text/markdown": [
       "\n",
       "reg_num | subj | crse | sect | title | units | instructor | days | start_time | end_time | building | room | \n",
       "|---|---|---|---|---|---|\n",
       "| 10577                                 | ANTH                                  | 211                                   | F01                                   | Introduction to Anthropology          | 1.0                                   | Brightman                             | M-W                                   | 03:10                                 | 04:30                                 | ELIOT                                 | 414                                   | \n",
       "| 20573                                 | ANTH                                  | 344                                   | S01                                   | Sex and Gender                        | 1.0                                   | Makley                                | T-Th                                  | 10:30                                 | 11:50                                 | VOLLUM                                | 120                                   | \n",
       "| 10624                                 | BIOL                                  | 431                                   | F01                                   | Field Biology of Amphibians           | 0.5                                   | Kaplan                                | T                                     | 06:10                                 | 08:00                                 | PHYSICA                               | 240                                   | \n",
       "| 10626                                 | BIOL                                  | 431                                   | F03                                   | Bacterial Pathogenesis                | 0.5                                   |                                       |                                       |                                       |                                       | Mellies RESCHEDULED TO OTHER SEMESTER |                                       | \n",
       "| 20626                                 | BIOL                                  | 431                                   | S04                                   | Seminar in Biology                    | 0.5                                   | Yezerinac                             | Th                                    | 06:10                                 | 08:00                                 | BIOLA                                 | 200                                   | \n",
       "| 10543                                 | CHEM                                  | 101                                   | F                                     | MolecularStructure and Properties     | 1.0                                   | Geselbracht                           | M-W-F                                 | 11:00                                 | 11:50                                 | VOLLUMVLH                             |                                       | \n",
       "\n",
       "\n"
      ],
      "text/plain": [
       "  reg_num subj crse sect title                             units instructor \n",
       "1 10577   ANTH 211  F01  Introduction to Anthropology      1.0   Brightman  \n",
       "2 20573   ANTH 344  S01  Sex and Gender                    1.0   Makley     \n",
       "3 10624   BIOL 431  F01  Field Biology of Amphibians       0.5   Kaplan     \n",
       "4 10626   BIOL 431  F03  Bacterial Pathogenesis            0.5              \n",
       "5 20626   BIOL 431  S04  Seminar in Biology                0.5   Yezerinac  \n",
       "6 10543   CHEM 101  F    MolecularStructure and Properties 1.0   Geselbracht\n",
       "  days  start_time end_time building                              room\n",
       "1 M-W   03:10      04:30    ELIOT                                 414 \n",
       "2 T-Th  10:30      11:50    VOLLUM                                120 \n",
       "3 T     06:10      08:00    PHYSICA                               240 \n",
       "4                           Mellies RESCHEDULED TO OTHER SEMESTER     \n",
       "5 Th    06:10      08:00    BIOLA                                 200 \n",
       "6 M-W-F 11:00      11:50    VOLLUMVLH                                 "
      ]
     },
     "metadata": {},
     "output_type": "display_data"
    }
   ],
   "source": [
    "head(xmldataframe)"
   ]
  },
  {
   "cell_type": "markdown",
   "metadata": {},
   "source": [
    "Writing the dataframe to a csv file using write.csv()"
   ]
  },
  {
   "cell_type": "code",
   "execution_count": 6,
   "metadata": {
    "collapsed": true
   },
   "outputs": [],
   "source": [
    "write.csv(xmldataframe,file = \"WU.csv\")"
   ]
  }
 ],
 "metadata": {
  "kernelspec": {
   "display_name": "R",
   "language": "R",
   "name": "ir"
  },
  "language_info": {
   "codemirror_mode": "r",
   "file_extension": ".r",
   "mimetype": "text/x-r-source",
   "name": "R",
   "pygments_lexer": "r",
   "version": "3.3.2"
  }
 },
 "nbformat": 4,
 "nbformat_minor": 2
}
